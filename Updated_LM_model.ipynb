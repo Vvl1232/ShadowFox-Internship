{
 "cells": [
  {
   "cell_type": "markdown",
   "id": "1cbd46aa",
   "metadata": {},
   "source": [
    "# AI-Driven NLP: Language Model Exploration"
   ]
  },
  {
   "cell_type": "markdown",
   "id": "87aa8c71",
   "metadata": {},
   "source": [
    "## Research Questions & Objectives\n",
    "- How well does GPT-2 understand contextual prompts?\n",
    "- Can GPT-2 generate coherent and creative responses?\n",
    "- What are the limitations of GPT-2 in handling ambiguous inputs?\n"
   ]
  },
  {
   "cell_type": "markdown",
   "id": "bc5a69a4",
   "metadata": {},
   "source": [
    "## Implementation of GPT-2"
   ]
  },
  {
   "cell_type": "code",
   "execution_count": 1,
   "id": "315a735d",
   "metadata": {},
   "outputs": [],
   "source": [
    "from transformers import GPT2LMHeadModel, GPT2Tokenizer\n",
    "import torch\n",
    "\n",
    "# Load GPT-2 model and tokenizer\n",
    "model_name = 'gpt2'\n",
    "tokenizer = GPT2Tokenizer.from_pretrained(model_name)\n",
    "model = GPT2LMHeadModel.from_pretrained(model_name)\n"
   ]
  },
  {
   "cell_type": "markdown",
   "id": "434ca0e9",
   "metadata": {},
   "source": [
    "## Exploration & Analysis\n",
    "We will analyze GPT-2 by providing different prompts and evaluating its responses."
   ]
  },
  {
   "cell_type": "code",
   "execution_count": 4,
   "id": "2f8ef27b",
   "metadata": {},
   "outputs": [
    {
     "name": "stderr",
     "output_type": "stream",
     "text": [
      "Setting `pad_token_id` to `eos_token_id`:50256 for open-end generation.\n",
      "Setting `pad_token_id` to `eos_token_id`:50256 for open-end generation.\n"
     ]
    },
    {
     "name": "stdout",
     "output_type": "stream",
     "text": [
      "Prompt: Once upon a time in a futuristic city, there was a robot who\n",
      "Generated: Once upon a time in a futuristic city, there was a robot who was able to control a robot. The robot was a robot named \"The Robot\" who was able to control a robot. The robot was a robot named \"The Robot\" who\n",
      "\n"
     ]
    },
    {
     "name": "stderr",
     "output_type": "stream",
     "text": [
      "Setting `pad_token_id` to `eos_token_id`:50256 for open-end generation.\n"
     ]
    },
    {
     "name": "stdout",
     "output_type": "stream",
     "text": [
      "Prompt: The key difference between classical physics and quantum mechanics is\n",
      "Generated: The key difference between classical physics and quantum mechanics is that classical physics is a theory of the world, whereas quantum mechanics is a theory of the world.\n",
      "\n",
      "The key difference between classical physics and quantum mechanics is that classical physics is a theory of the\n",
      "\n",
      "Prompt: A fascinating fact about black holes is that\n",
      "Generated: A fascinating fact about black holes is that they are not the only ones that have been observed to have a black hole.\n",
      "\n",
      "The most famous black hole is the Large Hadron Collider, which is located in Switzerland. It is the largest particle accelerator\n",
      "\n"
     ]
    }
   ],
   "source": [
    "sample_prompts = [\n",
    "    \"Once upon a time in a futuristic city, there was a robot who\",\n",
    "    \"The key difference between classical physics and quantum mechanics is\",\n",
    "    \"A fascinating fact about black holes is that\"\n",
    "]\n",
    "\n",
    "for prompt in sample_prompts:\n",
    "    inputs = tokenizer(prompt, return_tensors='pt')\n",
    "    output = model.generate(**inputs, max_length=50)\n",
    "    generated_text = tokenizer.decode(output[0], skip_special_tokens=True)\n",
    "    \n",
    "    # Print only the prompt and generated text without unnecessary messages\n",
    "    print(f'Prompt: {prompt}\\nGenerated: {generated_text}\\n')\n"
   ]
  },
  {
   "cell_type": "markdown",
   "id": "7a52fcd7",
   "metadata": {},
   "source": [
    "## Visualization of Results\n",
    "To evaluate GPT-2's output, we compute BLEU and ROUGE scores."
   ]
  },
  {
   "cell_type": "code",
   "execution_count": 3,
   "id": "eedd4f86",
   "metadata": {},
   "outputs": [
    {
     "name": "stdout",
     "output_type": "stream",
     "text": [
      "BLEU Score: 8.412065649527267e-232\n",
      "ROUGE Scores: {'rouge1': Score(precision=0.06818181818181818, recall=0.2, fmeasure=0.10169491525423728), 'rougeL': Score(precision=0.045454545454545456, recall=0.13333333333333333, fmeasure=0.06779661016949153)}\n"
     ]
    },
    {
     "name": "stderr",
     "output_type": "stream",
     "text": [
      "C:\\Users\\vinit\\AppData\\Local\\Packages\\PythonSoftwareFoundation.Python.3.12_qbz5n2kfra8p0\\LocalCache\\local-packages\\Python312\\site-packages\\nltk\\translate\\bleu_score.py:577: UserWarning: \n",
      "The hypothesis contains 0 counts of 2-gram overlaps.\n",
      "Therefore the BLEU score evaluates to 0, independently of\n",
      "how many N-gram overlaps of lower order it contains.\n",
      "Consider using lower n-gram order or use SmoothingFunction()\n",
      "  warnings.warn(_msg)\n",
      "C:\\Users\\vinit\\AppData\\Local\\Packages\\PythonSoftwareFoundation.Python.3.12_qbz5n2kfra8p0\\LocalCache\\local-packages\\Python312\\site-packages\\nltk\\translate\\bleu_score.py:577: UserWarning: \n",
      "The hypothesis contains 0 counts of 3-gram overlaps.\n",
      "Therefore the BLEU score evaluates to 0, independently of\n",
      "how many N-gram overlaps of lower order it contains.\n",
      "Consider using lower n-gram order or use SmoothingFunction()\n",
      "  warnings.warn(_msg)\n",
      "C:\\Users\\vinit\\AppData\\Local\\Packages\\PythonSoftwareFoundation.Python.3.12_qbz5n2kfra8p0\\LocalCache\\local-packages\\Python312\\site-packages\\nltk\\translate\\bleu_score.py:577: UserWarning: \n",
      "The hypothesis contains 0 counts of 4-gram overlaps.\n",
      "Therefore the BLEU score evaluates to 0, independently of\n",
      "how many N-gram overlaps of lower order it contains.\n",
      "Consider using lower n-gram order or use SmoothingFunction()\n",
      "  warnings.warn(_msg)\n"
     ]
    }
   ],
   "source": [
    "from nltk.translate.bleu_score import sentence_bleu\n",
    "from rouge_score import rouge_scorer\n",
    "\n",
    "reference = \"Once upon a time in a futuristic city, there was a robot who helped humans.\"\n",
    "generated_text = tokenizer.decode(output[0], skip_special_tokens=True)\n",
    "\n",
    "bleu_score = sentence_bleu([reference.split()], generated_text.split())\n",
    "scorer = rouge_scorer.RougeScorer(['rouge1', 'rougeL'], use_stemmer=True)\n",
    "rouge_scores = scorer.score(reference, generated_text)\n",
    "\n",
    "print(f'BLEU Score: {bleu_score}')\n",
    "print(f'ROUGE Scores: {rouge_scores}')\n"
   ]
  },
  {
   "cell_type": "markdown",
   "id": "0178057f",
   "metadata": {},
   "source": [
    "## Conclusion & Insights\n",
    "- GPT-2 generates fluent text but may struggle with long-range coherence.\n",
    "- Context understanding depends on the prompt structure.\n",
    "- Further fine-tuning could improve performance in specific domains.\n"
   ]
  }
 ],
 "metadata": {
  "kernelspec": {
   "display_name": "Python 3",
   "language": "python",
   "name": "python3"
  },
  "language_info": {
   "codemirror_mode": {
    "name": "ipython",
    "version": 3
   },
   "file_extension": ".py",
   "mimetype": "text/x-python",
   "name": "python",
   "nbconvert_exporter": "python",
   "pygments_lexer": "ipython3",
   "version": "3.12.9"
  }
 },
 "nbformat": 4,
 "nbformat_minor": 5
}
